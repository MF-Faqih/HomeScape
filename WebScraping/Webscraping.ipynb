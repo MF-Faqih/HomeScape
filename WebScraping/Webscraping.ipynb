{
 "cells": [
  {
   "cell_type": "code",
   "execution_count": 14,
   "id": "57bbb7e4",
   "metadata": {},
   "outputs": [],
   "source": [
    "# Import all necessary librarry\n",
    "from bs4 import BeautifulSoup\n",
    "import pandas as pd\n",
    "import requests\n",
    "import csv\n",
    "import codecs"
   ]
  },
  {
   "cell_type": "code",
   "execution_count": 15,
   "id": "a693dd51",
   "metadata": {},
   "outputs": [],
   "source": [
    "# Headers to avoid website blocker request\n",
    "headers = {'User-Agent' : 'Mozilla/5.0 (Windows NT 10.0; Win64; x64; rv:109.0) Gecko/20100101 Firefox/113.0'}"
   ]
  },
  {
   "cell_type": "code",
   "execution_count": 25,
   "id": "f6822d55",
   "metadata": {},
   "outputs": [],
   "source": [
    "# URL Page\n",
    "url = 'https://www.lamudi.co.id/jakarta/apartment/buy/?q=Jakarta&page=2'"
   ]
  },
  {
   "cell_type": "code",
   "execution_count": 26,
   "id": "54d0871f",
   "metadata": {},
   "outputs": [],
   "source": [
    "# Make a looping function\n",
    "datas=[]\n",
    "for page in range(1, 75):\n",
    "    url_get = requests.get(url+str(page), headers = headers)\n",
    "    soup = BeautifulSoup(url_get.text, 'html.parser')\n",
    "    items = soup.findAll('div', 'row ListingCell-row ListingCell-agent-redesign')\n",
    "    for item in items:\n",
    "        try : name = item.find('h2', 'ListingCell-KeyInfo-title').text.strip()\n",
    "        except : name = ''\n",
    "        try : address = item.find('span', 'ListingCell-KeyInfo-address-text').text.strip()\n",
    "        except : address = ''\n",
    "        try : price = item.find('span', 'PriceSection-FirstPrice').text.strip().replace('Rp', '').replace('.', ',')\n",
    "        except : price = ''\n",
    "        bedroom_elements = item.find_all('span', class_='KeyInformation-value_v2 KeyInformation-amenities-icon_v2')\n",
    "        if len(bedroom_elements) >= 2:\n",
    "            try : bedroom = bedroom_elements[0].text.strip()\n",
    "            except : bedroom\n",
    "            try : bathroom = bedroom_elements[1].text.strip()\n",
    "            except : bathroom\n",
    "            try : total_area = bedroom_elements[2].text.strip()\n",
    "            except : total_area\n",
    "        phone_elements = item.find_all('div', class_='cta-label-wrapper')\n",
    "        if len(phone_elements) >= 2:\n",
    "            try : delete = phone_elements[0].text.strip()\n",
    "            except : delete\n",
    "            try : phone = phone_elements[1].text.strip()\n",
    "            except : Phone\n",
    "        datas.append([name, address, bedroom, bathroom, total_area, price, phone])\n",
    "\n",
    "# Make a csv file to store the data\n",
    "head = ['Name', 'Address', 'Bedroom', 'Bathroom', 'Total_area', 'Price', 'Phone']\n",
    "with codecs.open('Result/apartment_jakarta.csv', 'w', encoding='utf-8', errors='ignore') as file:\n",
    "    writer = csv.writer(file)\n",
    "    writer.writerow(head)\n",
    "    for data in datas:\n",
    "        writer.writerow(data)"
   ]
  }
 ],
 "metadata": {
  "kernelspec": {
   "display_name": "ultron_da",
   "language": "python",
   "name": "ultron_da"
  },
  "language_info": {
   "codemirror_mode": {
    "name": "ipython",
    "version": 3
   },
   "file_extension": ".py",
   "mimetype": "text/x-python",
   "name": "python",
   "nbconvert_exporter": "python",
   "pygments_lexer": "ipython3",
   "version": "3.10.8"
  }
 },
 "nbformat": 4,
 "nbformat_minor": 5
}
